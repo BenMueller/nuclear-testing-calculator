{
 "cells": [
  {
   "cell_type": "code",
   "execution_count": 18,
   "id": "b089d85c",
   "metadata": {},
   "outputs": [],
   "source": [
    "from ipywidgets import interact, interactive, fixed, interact_manual, HBox, Label, Layout\n",
    "import ipywidgets as widgets\n",
    "import math"
   ]
  },
  {
   "cell_type": "code",
   "execution_count": null,
   "id": "2e55ddff",
   "metadata": {},
   "outputs": [],
   "source": [
    "# Present values go here"
   ]
  },
  {
   "cell_type": "code",
   "execution_count": 51,
   "id": "2ef714ac",
   "metadata": {},
   "outputs": [],
   "source": [
    "def cavity_radius(kt):\n",
    "    if kt < 1:\n",
    "        return 0\n",
    "    else:\n",
    "        return 17 * math.pow(math.log10(kt), 1/3)\n",
    "\n",
    "def cavity_volume(kt):\n",
    "    return (4/3) * math.pi * math.pow(kt, 3)\n",
    "\n",
    "def depth_estimate(kt):\n",
    "    if kt < 1:\n",
    "        return 0\n",
    "    else:\n",
    "        return 120*math.pow(math.log10(kt), 1/3)\n",
    "    \n",
    "def spacing_estimate(kt):\n",
    "    return 2*kt + 30\n",
    "\n",
    "def yield_estimator(mb, depth=0, propagation=4.25):\n",
    "    if(mb==0):\n",
    "        print(\"Yield: 0 kilotons\")\n",
    "        return\n",
    "    if(mb < 4):\n",
    "        if(depth==0):\n",
    "            yld = math.pow(10, (mb-propagation))\n",
    "        else:\n",
    "            # I don't entirely trust the calculations here, tbh. Less important for small explosions atm, todo.\n",
    "            yld = math.pow(10, (\n",
    "                mb-(propagation+1.63736)+(0.7875*math.log10(depth))/1.35\n",
    "                           ))\n",
    "    else:\n",
    "        if(depth==0):\n",
    "            yld = math.pow(10, (mb-propagation)/0.75)\n",
    "        else:\n",
    "            yld = math.pow(10, (\n",
    "                mb-(propagation+1.63736)+(0.7875*math.log10(depth))/1.0125\n",
    "                           ))\n",
    "    \n",
    "    print(\"Yield: \", \"{0:.3f}\".format(yld), \" kilotons\")\n",
    "    print(\"Cavity Radius: \", \"{0:.0f}\".format(cavity_radius(yld)), \" meters\")\n",
    "    print(\"Cavity Volume: \", \"{0:.0f}\".format(cavity_volume(yld)), \" cubic meters\")\n",
    "    print(\"Minimum burial depth: \", \"{0:.0f}\".format(depth_estimate(yld)), \" meters (VERY rough estimate)\")\n",
    "    print(\"Minimum spacing for equivalent test: \", \"{0:.0f}\".format(spacing_estimate(yld)), \n",
    "          \" meters (VERY rough estimate)\")"
   ]
  },
  {
   "cell_type": "code",
   "execution_count": 52,
   "id": "9c6a0288",
   "metadata": {},
   "outputs": [],
   "source": [
    "mb_input = widgets.BoundedFloatText(\n",
    "    value=0,\n",
    "    min=0,\n",
    "    max=50,\n",
    "    step=0.1,\n",
    "    description='Mb: ',\n",
    "    disabled=False\n",
    ")\n",
    "depth_input = widgets.BoundedIntText(\n",
    "    value=0,\n",
    "    min=0,\n",
    "    max=100000,\n",
    "    step=1,\n",
    "    description='Depth (m): ',\n",
    "    disabled=False\n",
    ")\n",
    "prop_text = widgets.BoundedFloatText(\n",
    "    value=4.25,\n",
    "    min=3,\n",
    "    max=5,\n",
    "    step=0.01,\n",
    "    description='Propagation: ',\n",
    "    disabled=False\n",
    ")\n",
    "prop_slider = widgets.FloatSlider(\n",
    "    value=4.25,\n",
    "    min=3,\n",
    "    max=5,\n",
    "    step=0.01,\n",
    "    description='',\n",
    "    continuous_update=True,\n",
    "    orientation='horizontal',\n",
    "    readout=True,\n",
    "    readout_format='.2f'\n",
    ")\n",
    "# set layout\n",
    "ui_layout = Layout(\n",
    "    grid_row='4',\n",
    "    grid_column='1'\n",
    ")"
   ]
  },
  {
   "cell_type": "markdown",
   "id": "ee006ef6",
   "metadata": {},
   "source": [
    "# Nuclear Test Yield Calculator\n",
    "\n",
    "Input the magnitude (Mb), as well as depth and propagation if available.\n",
    "\n",
    "(todo) Alternatively, choose a preset to see historic nuclear estimates."
   ]
  },
  {
   "cell_type": "code",
   "execution_count": 53,
   "id": "6a9fb61c",
   "metadata": {
    "scrolled": true
   },
   "outputs": [
    {
     "data": {
      "application/vnd.jupyter.widget-view+json": {
       "model_id": "d17a13c92b314492bd50f5250fc4f069",
       "version_major": 2,
       "version_minor": 0
      },
      "text/plain": [
       "GridBox(children=(BoundedFloatText(value=0.0, description='Mb: ', max=50.0, step=0.1), BoundedIntText(value=0,…"
      ]
     },
     "metadata": {},
     "output_type": "display_data"
    },
    {
     "data": {
      "application/vnd.jupyter.widget-view+json": {
       "model_id": "2546b6904ebd450cb4a53552cdbcb97a",
       "version_major": 2,
       "version_minor": 0
      },
      "text/plain": [
       "Output()"
      ]
     },
     "metadata": {},
     "output_type": "display_data"
    }
   ],
   "source": [
    "# link any elements\n",
    "prop_link = widgets.jslink((prop_text, 'value'), (prop_slider, 'value'))\n",
    "\n",
    "# build the final UI\n",
    "ui = widgets.GridBox([mb_input, depth_input, prop_text, prop_slider],\n",
    "                    layout=ui_layout)\n",
    "\n",
    "# this is the important run stuff bit\n",
    "yield_estimator_interactive = widgets.interactive_output(\n",
    "    yield_estimator, {'mb': mb_input, 'depth': depth_input, 'propagation': prop_text})\n",
    "\n",
    "# all done\n",
    "display(ui, yield_estimator_interactive)"
   ]
  },
  {
   "cell_type": "markdown",
   "id": "21f2cca3",
   "metadata": {},
   "source": [
    "# Sources & Thanks\n",
    "\n",
    "This site was built and maintained by [@madwonk](https://twitter.com/madwonk) to streamline work done by [Jeffrey Lewis](https://twitter.com/ArmsControlWonk) and bring it to a larger audience.\n",
    "\n",
    "## How does this work?\n",
    "This site is a Jupyter notebook exported with [Voilà](https://github.com/voila-dashboards/voila). The source code is available on [Github](https://github.com/BenMueller)!\n",
    "\n",
    "## I've found a bug!\n",
    "Feel free to file a report on Github, or send me a message @madwonk on Twitter.\n",
    "\n",
    "## Sources\n",
    "[Punggye-ri yield, no depth correction](http://dx.doi.org/10.1785/0120100202)\n",
    "\n",
    "[Punggye-ri with depth correction](https://doi.org/10.1002/grl.50607)\n",
    "\n",
    "[Novaya Zemlya](www.jstor.org/stable/26977)\n",
    "\n",
    "[Pokhran (high estimate from BARC)](http://web.archive.org/web/20010720043355/http://www.barc.ernet.in/webpages/milestones/drs_03.html)\n",
    "\n",
    "[Moruroa](https://apps.dtic.mil/dtic/tr/fulltext/u2/a228258.pdf)\n",
    "\n",
    "[Chagai (corrected for tectonic activity)](https://apps.dtic.mil/dtic/tr/fulltext/u2/a228258.pdf)\n"
   ]
  }
 ],
 "metadata": {
  "kernelspec": {
   "display_name": "Python 3",
   "language": "python",
   "name": "python3"
  },
  "language_info": {
   "codemirror_mode": {
    "name": "ipython",
    "version": 3
   },
   "file_extension": ".py",
   "mimetype": "text/x-python",
   "name": "python",
   "nbconvert_exporter": "python",
   "pygments_lexer": "ipython3",
   "version": "3.9.12"
  }
 },
 "nbformat": 4,
 "nbformat_minor": 5
}
