{
 "cells": [
  {
   "cell_type": "code",
   "execution_count": 1,
   "id": "b089d85c",
   "metadata": {},
   "outputs": [],
   "source": [
    "from ipywidgets import interact, interactive, fixed, interact_manual, HBox, Label, Layout\n",
    "import ipywidgets as widgets\n",
    "import math"
   ]
  },
  {
   "cell_type": "code",
   "execution_count": 2,
   "id": "2e55ddff",
   "metadata": {},
   "outputs": [],
   "source": [
    "# Preset values go here\n",
    "depth_factor = 0.75 # the assumed \n",
    "default_output = (\"Yield:  0.000  kilotons\\n\" +\n",
    "    \"Cavity Radius:  0  meters\\n\" +\n",
    "    \"Cavity Volume:  0  cubic meters\\n\" +\n",
    "    \"Minimum burial depth:  0  meters (VERY rough estimate)\\n\" +\n",
    "    \"Minimum spacing for equivalent test:  30  meters (VERY rough estimate)\\n\")\n",
    "\n",
    "test_list = ((\"North Korea 2006\", {'mb': 4.1}),\n",
    "        (\"North Korea 2013\", {'mb': 4.9, 'depth': 430}),\n",
    "        (\"North Korea 2016\", {'mb': 5.1, 'depth': 673}),\n",
    "        (\"North Korea 2017\", {'mb': 6.1, 'depth': 789}),\n",
    "        (\"Novaya Zemlya 1966\", {'mb': 6.39}),\n",
    "        (\"Novaya Zemlya 1975\", {'mb':6.43}))\n",
    "\n",
    "test_sites = ((\"Punggye-ri\", {'propagation': 4.25}),\n",
    "             (\"Punggye-ri (with depth correction)\", {'propagation': 4.25, 'experimental_depth': True, 'experimental_depth_value': 430}),\n",
    "             (\"Lop Nor\", {'propagation': 4.45}),\n",
    "             (\"Nevada\", {'propagation': 4.05}),\n",
    "             (\"Novaya Zemlya\", {'propagation': 4.3}),\n",
    "             (\"Pokhran\", {'propagation': 4.04, 'depth_factor': 0.77}),\n",
    "             (\"Moruroa\", {'propagation': 3.71, 'depth_factor': 1.0}),\n",
    "             (\"Chagai\", {'propagation': 4.05}),\n",
    "             (\"dry alluvium\", {'propagation': 3.75}))"
   ]
  },
  {
   "cell_type": "code",
   "execution_count": 3,
   "id": "2ef714ac",
   "metadata": {},
   "outputs": [],
   "source": [
    "def cavity_radius(kt):\n",
    "    if kt < 1:\n",
    "        return 0\n",
    "    else:\n",
    "        return 17 * math.pow(math.log10(kt), 1/3)\n",
    "\n",
    "def cavity_volume(kt):\n",
    "    return (4/3) * math.pi * math.pow(kt, 3)\n",
    "\n",
    "def depth_estimate(kt):\n",
    "    if kt < 1:\n",
    "        return 0\n",
    "    else:\n",
    "        return 120*math.pow(math.log10(kt), 1/3)\n",
    "    \n",
    "def spacing_estimate(kt):\n",
    "    return 2*kt + 30\n",
    "\n",
    "def yield_estimator(mb, depth=0, depth_factor=0.75, propagation=4.25):\n",
    "    if(mb==0):\n",
    "        print(default_output)\n",
    "        return\n",
    "    if(mb < 4):\n",
    "        if(depth==0):\n",
    "            yld = math.pow(10, (mb-propagation))\n",
    "        else:\n",
    "            yld = math.pow(10, (\n",
    "                mb-(propagation+1.63736)+(0.7875*math.log10(depth))/1.0125))\n",
    "    else:\n",
    "        if(depth==0):\n",
    "            yld = math.pow(10, (mb-propagation)/depth_factor)\n",
    "        else:\n",
    "            yld = math.pow(10, (\n",
    "                mb-(propagation+1.63736)+(0.7875*math.log10(depth))/1.0125))\n",
    "    \n",
    "    print(\"Yield: \", \"{0:.3f}\".format(yld), \" kilotons\")\n",
    "    print(\"Cavity Radius: \", \"{0:.0f}\".format(cavity_radius(yld)), \" meters\")\n",
    "    print(\"Cavity Volume: \", \"{0:.0f}\".format(cavity_volume(yld)), \" cubic meters\")\n",
    "    print(\"Minimum burial depth: \", \"{0:.0f}\".format(depth_estimate(yld)), \" meters (VERY rough estimate)\")\n",
    "    print(\"Minimum spacing for equivalent test: \", \"{0:.0f}\".format(spacing_estimate(yld)), \n",
    "          \" meters (VERY rough estimate)\")"
   ]
  },
  {
   "cell_type": "code",
   "execution_count": 4,
   "id": "9c6a0288",
   "metadata": {},
   "outputs": [],
   "source": [
    "mb_input = widgets.BoundedFloatText(\n",
    "    value=0,\n",
    "    min=0,\n",
    "    max=50,\n",
    "    step=0.1,\n",
    "    description='Mb: ',\n",
    "    disabled=False\n",
    ")\n",
    "depth_input = widgets.BoundedIntText(\n",
    "    value=0,\n",
    "    min=0,\n",
    "    max=100000,\n",
    "    step=1,\n",
    "    description='Depth (m): ',\n",
    "    disabled=True\n",
    ")\n",
    "prop_text = widgets.BoundedFloatText(\n",
    "    value=4.25,\n",
    "    min=3,\n",
    "    max=5,\n",
    "    step=0.01,\n",
    "    description='Propagation: ',\n",
    "    disabled=False\n",
    ")\n",
    "prop_slider = widgets.FloatSlider(\n",
    "    value=4.25,\n",
    "    min=3,\n",
    "    max=5,\n",
    "    step=0.01,\n",
    "    description='',\n",
    "    continuous_update=True,\n",
    "    orientation='horizontal',\n",
    "    readout=True,\n",
    "    readout_format='.2f'\n",
    ")\n",
    "use_depth = widgets.Checkbox(\n",
    "    value=False,\n",
    "    description='Enable experimental depth calculation?*',\n",
    "    disabled=False,\n",
    "    indent=False\n",
    ")\n",
    "sites = [(('Custom'), 1)]\n",
    "for x in range(len(test_sites)):\n",
    "    sites.append((test_sites[x][0], x+1))\n",
    "site_selection = widgets.Dropdown(\n",
    "    options=sites,\n",
    "    value=1,\n",
    "    description='Location:'\n",
    ")\n",
    "tests = [(('Custom'), 1)]\n",
    "for x in range(len(test_list)):\n",
    "    tests.append((test_list[x][0], x+1))\n",
    "test_selection = widgets.Dropdown(\n",
    "    options=tests,\n",
    "    value=1,\n",
    "    description='Tests:'\n",
    ")"
   ]
  },
  {
   "cell_type": "code",
   "execution_count": 5,
   "id": "5dd84e4e",
   "metadata": {},
   "outputs": [],
   "source": [
    "def toggle_depth(*args):\n",
    "    depth_input.disabled = not use_depth.value\n",
    "    if (not depth_input.disabled) and depth_input.value == 0:\n",
    "        depth_input.value = 250\n",
    "    else:\n",
    "        depth_input.value = 0\n",
    "        \n",
    "def change_location(*args):\n",
    "    if site_selection.value == 0:\n",
    "        prop_text.value = 4.25\n",
    "        depth_factor = 0.75\n",
    "    else:\n",
    "        for config in test_sites[site_selection.value-1]:\n",
    "            if 'propagation' in config:\n",
    "                prop_text.value = config.get('propagation')\n",
    "            if 'depth_factor' in config:\n",
    "                depth_factor = config.get('depth_factor')\n",
    "            else:\n",
    "                depth_factor = 0.75\n",
    "            if 'experimental_depth' in config:\n",
    "                use_depth.value = config.get('experimental_depth')\n",
    "                depth_input.disabled = not config.get('experimental_depth')\n",
    "                if 'experimental_depth_value' in config:\n",
    "                    depth_input.value = config.get('experimental_depth_value')\n",
    "                else:\n",
    "                    depth_input.value = 250\n",
    "            else:\n",
    "                use_depth.value = False\n",
    "                depth_input.disabled = True\n",
    "                \n",
    "def set_test(*args):\n",
    "    if site_selection.value == 0:\n",
    "        mb_input.value = 0\n",
    "    else:\n",
    "        for config in test_list[test_selection.value-1]:\n",
    "            if 'mb' in config:\n",
    "                mb_input.value = config.get('mb')\n",
    "            if 'depth' in config and use_depth.value is True:\n",
    "                use_depth.value = True\n",
    "                depth_input.value = config.get('depth')\n",
    "\n",
    "# set layout\n",
    "ui_layout = Layout(\n",
    "    grid_row='7',\n",
    "    grid_column='1'\n",
    ")\n",
    "grid_order = [test_selection, site_selection, use_depth, mb_input, depth_input, prop_text, prop_slider]\n",
    "\n",
    "# link any elements\n",
    "prop_link = widgets.jslink((prop_text, 'value'), (prop_slider, 'value'))"
   ]
  },
  {
   "cell_type": "markdown",
   "id": "ee006ef6",
   "metadata": {},
   "source": [
    "# Nuclear Test Yield Calculator\n",
    "\n",
    "Input the magnitude (Mb), as well as depth and propagation if available.\n",
    "\n",
    "Alternatively, choose a preset to see historic nuclear estimates."
   ]
  },
  {
   "cell_type": "code",
   "execution_count": 6,
   "id": "6a9fb61c",
   "metadata": {
    "scrolled": false
   },
   "outputs": [
    {
     "data": {
      "application/vnd.jupyter.widget-view+json": {
       "model_id": "2ebfe11e1a6841a0a91e85c6494be8cf",
       "version_major": 2,
       "version_minor": 0
      },
      "text/plain": [
       "GridBox(children=(Dropdown(description='Tests:', options=(('Custom', 1), ('North Korea 2006', 1), ('North Kore…"
      ]
     },
     "metadata": {},
     "output_type": "display_data"
    },
    {
     "data": {
      "application/vnd.jupyter.widget-view+json": {
       "model_id": "1c601a97281e4018a2b8ebf6b1021f4b",
       "version_major": 2,
       "version_minor": 0
      },
      "text/plain": [
       "Output()"
      ]
     },
     "metadata": {},
     "output_type": "display_data"
    }
   ],
   "source": [
    "# build the final UI\n",
    "ui = widgets.GridBox(grid_order, layout=ui_layout)\n",
    "\n",
    "# this is the important run stuff bit\n",
    "yield_estimator_interactive = widgets.interactive_output(\n",
    "    yield_estimator, {'mb': mb_input, 'depth': depth_input, 'propagation': prop_text})\n",
    "use_depth.observe(toggle_depth, 'value')\n",
    "site_selection.observe(change_location, 'value')\n",
    "test_selection.observe(set_test, 'value')\n",
    "\n",
    "# all done\n",
    "display(ui, yield_estimator_interactive)"
   ]
  },
  {
   "cell_type": "markdown",
   "id": "197407d6",
   "metadata": {},
   "source": [
    "\\*Only guaranteed for Punggye-ri, see source 2"
   ]
  },
  {
   "cell_type": "code",
   "execution_count": null,
   "id": "6f552cb1",
   "metadata": {},
   "outputs": [],
   "source": [
    "# how does this work? todo: apparently you can do LaTeX in Voila?"
   ]
  },
  {
   "cell_type": "markdown",
   "id": "21f2cca3",
   "metadata": {},
   "source": [
    "# Sources & Thanks\n",
    "\n",
    "This site was built and maintained by [@madwonk](https://twitter.com/madwonk) to streamline work done by [Jeffrey Lewis](https://twitter.com/ArmsControlWonk) and bring it to a larger audience.\n",
    "\n",
    "## How does this work?\n",
    "This site is a Jupyter notebook exported with [Voilà](https://github.com/voila-dashboards/voila). The source code is available on [Github](https://github.com/BenMueller/nuclear-testing-calculator)!\n",
    "\n",
    "## I've found a bug!\n",
    "Feel free to file a report on Github, or send me a message @madwonk on Twitter.\n",
    "\n",
    "## Sources\n",
    "\\[1\\] [Punggye-ri yield, no depth correction](http://dx.doi.org/10.1785/0120100202)\n",
    "\n",
    "\\[2\\] [Punggye-ri with depth correction](https://doi.org/10.1002/grl.50607)\n",
    "\n",
    "\\[3\\] [Novaya Zemlya](www.jstor.org/stable/26977)\n",
    "\n",
    "\\[4\\] [Pokhran (high estimate from BARC)](http://web.archive.org/web/20010720043355/http://www.barc.ernet.in/webpages/milestones/drs_03.html)\n",
    "\n",
    "\\[5\\] [Moruroa](https://apps.dtic.mil/dtic/tr/fulltext/u2/a228258.pdf)\n",
    "\n",
    "\\[6\\] [Chagai (corrected for tectonic activity)](https://apps.dtic.mil/dtic/tr/fulltext/u2/a228258.pdf)\n"
   ]
  },
  {
   "cell_type": "code",
   "execution_count": null,
   "id": "119d48ab",
   "metadata": {},
   "outputs": [],
   "source": []
  }
 ],
 "metadata": {
  "kernelspec": {
   "display_name": "Python 3",
   "language": "python",
   "name": "python3"
  },
  "language_info": {
   "codemirror_mode": {
    "name": "ipython",
    "version": 3
   },
   "file_extension": ".py",
   "mimetype": "text/x-python",
   "name": "python",
   "nbconvert_exporter": "python",
   "pygments_lexer": "ipython3",
   "version": "3.9.12"
  }
 },
 "nbformat": 4,
 "nbformat_minor": 5
}
